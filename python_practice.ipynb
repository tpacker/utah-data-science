{
 "cells": [
  {
   "cell_type": "markdown",
   "metadata": {},
   "source": [
    "#  By Thomas Packer"
   ]
  },
  {
   "cell_type": "code",
   "execution_count": 1,
   "metadata": {
    "collapsed": true
   },
   "outputs": [],
   "source": [
    "short_list_of_strings = ['a', 'b', 'c']"
   ]
  },
  {
   "cell_type": "code",
   "execution_count": 2,
   "metadata": {},
   "outputs": [
    {
     "name": "stdout",
     "output_type": "stream",
     "text": [
      "['a', 'b', 'c']\n"
     ]
    }
   ],
   "source": [
    "print(short_list_of_strings)"
   ]
  },
  {
   "cell_type": "code",
   "execution_count": 3,
   "metadata": {},
   "outputs": [
    {
     "name": "stdout",
     "output_type": "stream",
     "text": [
      "['a!', 'b!', 'c!']\n"
     ]
    }
   ],
   "source": [
    "# a. for loop\n",
    "\n",
    "new_list_of_strings_a = []\n",
    "for val in short_list_of_strings:\n",
    "    new_list_of_strings_a.append(val + '!')\n",
    "    \n",
    "print(new_list_of_strings_a)"
   ]
  },
  {
   "cell_type": "code",
   "execution_count": 4,
   "metadata": {},
   "outputs": [
    {
     "name": "stdout",
     "output_type": "stream",
     "text": [
      "['a!', 'b!', 'c!']\n"
     ]
    }
   ],
   "source": [
    "# b. list comprehension\n",
    "\n",
    "new_list_of_strings_b = [val + '!' for val in short_list_of_strings]\n",
    "\n",
    "print(new_list_of_strings_b)"
   ]
  },
  {
   "cell_type": "code",
   "execution_count": 13,
   "metadata": {},
   "outputs": [
    {
     "name": "stdout",
     "output_type": "stream",
     "text": [
      "['a!', 'b!', 'c!']\n"
     ]
    }
   ],
   "source": [
    "# c. map function\n",
    "\n",
    "new_list_of_strings_c = list(map(lambda val: val + '!', short_list_of_strings))\n",
    "\n",
    "print(new_list_of_strings_c)"
   ]
  },
  {
   "cell_type": "code",
   "execution_count": 71,
   "metadata": {},
   "outputs": [
    {
     "name": "stdout",
     "output_type": "stream",
     "text": [
      "1 head: a + tail: ['b', 'c']\n",
      "2 head: b + tail: ['c']\n",
      "3 head: c + tail: []\n",
      "3 new_list: ['c!']\n",
      "2 new_list: ['b!', 'c!']\n",
      "1 new_list: ['a!', 'b!', 'c!']\n",
      "\n",
      "['a!', 'b!', 'c!']\n"
     ]
    }
   ],
   "source": [
    "# d. recursion\n",
    "\n",
    "def append_bang(input_list, level):\n",
    "    if len(input_list) > 0:\n",
    "        head, *tail = input_list\n",
    "        print(level, 'head:', head, '+ tail:', tail)\n",
    "        new_list = [head + '!'] + append_bang(tail, level + 1)\n",
    "        print(level, 'new_list:', new_list)\n",
    "        return new_list\n",
    "    else:\n",
    "        return []\n",
    "\n",
    "new_list_of_strings_d = append_bang(short_list_of_strings, 1)\n",
    "\n",
    "print()\n",
    "print(new_list_of_strings_d)"
   ]
  },
  {
   "cell_type": "code",
   "execution_count": null,
   "metadata": {
    "collapsed": true
   },
   "outputs": [],
   "source": []
  },
  {
   "cell_type": "code",
   "execution_count": null,
   "metadata": {
    "collapsed": true
   },
   "outputs": [],
   "source": []
  }
 ],
 "metadata": {
  "kernelspec": {
   "display_name": "Python 3",
   "language": "python",
   "name": "python3"
  },
  "language_info": {
   "codemirror_mode": {
    "name": "ipython",
    "version": 3
   },
   "file_extension": ".py",
   "mimetype": "text/x-python",
   "name": "python",
   "nbconvert_exporter": "python",
   "pygments_lexer": "ipython3",
   "version": "3.6.3"
  }
 },
 "nbformat": 4,
 "nbformat_minor": 2
}
